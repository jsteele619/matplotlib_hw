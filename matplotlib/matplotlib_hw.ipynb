{
 "cells": [
  {
   "cell_type": "markdown",
   "metadata": {},
   "source": [
    "## Observations and Insights "
   ]
  },
  {
   "cell_type": "markdown",
   "metadata": {},
   "source": []
  },
  {
   "cell_type": "code",
   "execution_count": 235,
   "metadata": {},
   "outputs": [
    {
     "data": {
      "text/html": [
       "<div>\n",
       "<style scoped>\n",
       "    .dataframe tbody tr th:only-of-type {\n",
       "        vertical-align: middle;\n",
       "    }\n",
       "\n",
       "    .dataframe tbody tr th {\n",
       "        vertical-align: top;\n",
       "    }\n",
       "\n",
       "    .dataframe thead th {\n",
       "        text-align: right;\n",
       "    }\n",
       "</style>\n",
       "<table border=\"1\" class=\"dataframe\">\n",
       "  <thead>\n",
       "    <tr style=\"text-align: right;\">\n",
       "      <th></th>\n",
       "      <th>Mouse ID</th>\n",
       "      <th>Drug Regimen</th>\n",
       "      <th>Sex</th>\n",
       "      <th>Age_months</th>\n",
       "      <th>Weight (g)</th>\n",
       "      <th>Timepoint</th>\n",
       "      <th>Tumor Volume</th>\n",
       "      <th>Metastatic Sites</th>\n",
       "    </tr>\n",
       "  </thead>\n",
       "  <tbody>\n",
       "    <tr>\n",
       "      <th>0</th>\n",
       "      <td>k403</td>\n",
       "      <td>Ramicane</td>\n",
       "      <td>Male</td>\n",
       "      <td>21</td>\n",
       "      <td>16</td>\n",
       "      <td>0</td>\n",
       "      <td>45.000000</td>\n",
       "      <td>0</td>\n",
       "    </tr>\n",
       "    <tr>\n",
       "      <th>1</th>\n",
       "      <td>k403</td>\n",
       "      <td>Ramicane</td>\n",
       "      <td>Male</td>\n",
       "      <td>21</td>\n",
       "      <td>16</td>\n",
       "      <td>5</td>\n",
       "      <td>38.825898</td>\n",
       "      <td>0</td>\n",
       "    </tr>\n",
       "    <tr>\n",
       "      <th>2</th>\n",
       "      <td>k403</td>\n",
       "      <td>Ramicane</td>\n",
       "      <td>Male</td>\n",
       "      <td>21</td>\n",
       "      <td>16</td>\n",
       "      <td>10</td>\n",
       "      <td>35.014271</td>\n",
       "      <td>1</td>\n",
       "    </tr>\n",
       "    <tr>\n",
       "      <th>3</th>\n",
       "      <td>k403</td>\n",
       "      <td>Ramicane</td>\n",
       "      <td>Male</td>\n",
       "      <td>21</td>\n",
       "      <td>16</td>\n",
       "      <td>15</td>\n",
       "      <td>34.223992</td>\n",
       "      <td>1</td>\n",
       "    </tr>\n",
       "    <tr>\n",
       "      <th>4</th>\n",
       "      <td>k403</td>\n",
       "      <td>Ramicane</td>\n",
       "      <td>Male</td>\n",
       "      <td>21</td>\n",
       "      <td>16</td>\n",
       "      <td>20</td>\n",
       "      <td>32.997729</td>\n",
       "      <td>1</td>\n",
       "    </tr>\n",
       "    <tr>\n",
       "      <th>...</th>\n",
       "      <td>...</td>\n",
       "      <td>...</td>\n",
       "      <td>...</td>\n",
       "      <td>...</td>\n",
       "      <td>...</td>\n",
       "      <td>...</td>\n",
       "      <td>...</td>\n",
       "      <td>...</td>\n",
       "    </tr>\n",
       "    <tr>\n",
       "      <th>1888</th>\n",
       "      <td>z969</td>\n",
       "      <td>Naftisol</td>\n",
       "      <td>Male</td>\n",
       "      <td>9</td>\n",
       "      <td>30</td>\n",
       "      <td>25</td>\n",
       "      <td>63.145652</td>\n",
       "      <td>2</td>\n",
       "    </tr>\n",
       "    <tr>\n",
       "      <th>1889</th>\n",
       "      <td>z969</td>\n",
       "      <td>Naftisol</td>\n",
       "      <td>Male</td>\n",
       "      <td>9</td>\n",
       "      <td>30</td>\n",
       "      <td>30</td>\n",
       "      <td>65.841013</td>\n",
       "      <td>3</td>\n",
       "    </tr>\n",
       "    <tr>\n",
       "      <th>1890</th>\n",
       "      <td>z969</td>\n",
       "      <td>Naftisol</td>\n",
       "      <td>Male</td>\n",
       "      <td>9</td>\n",
       "      <td>30</td>\n",
       "      <td>35</td>\n",
       "      <td>69.176246</td>\n",
       "      <td>4</td>\n",
       "    </tr>\n",
       "    <tr>\n",
       "      <th>1891</th>\n",
       "      <td>z969</td>\n",
       "      <td>Naftisol</td>\n",
       "      <td>Male</td>\n",
       "      <td>9</td>\n",
       "      <td>30</td>\n",
       "      <td>40</td>\n",
       "      <td>70.314904</td>\n",
       "      <td>4</td>\n",
       "    </tr>\n",
       "    <tr>\n",
       "      <th>1892</th>\n",
       "      <td>z969</td>\n",
       "      <td>Naftisol</td>\n",
       "      <td>Male</td>\n",
       "      <td>9</td>\n",
       "      <td>30</td>\n",
       "      <td>45</td>\n",
       "      <td>73.867845</td>\n",
       "      <td>4</td>\n",
       "    </tr>\n",
       "  </tbody>\n",
       "</table>\n",
       "<p>1893 rows × 8 columns</p>\n",
       "</div>"
      ],
      "text/plain": [
       "     Mouse ID Drug Regimen   Sex  Age_months  Weight (g)  Timepoint  \\\n",
       "0        k403     Ramicane  Male          21          16          0   \n",
       "1        k403     Ramicane  Male          21          16          5   \n",
       "2        k403     Ramicane  Male          21          16         10   \n",
       "3        k403     Ramicane  Male          21          16         15   \n",
       "4        k403     Ramicane  Male          21          16         20   \n",
       "...       ...          ...   ...         ...         ...        ...   \n",
       "1888     z969     Naftisol  Male           9          30         25   \n",
       "1889     z969     Naftisol  Male           9          30         30   \n",
       "1890     z969     Naftisol  Male           9          30         35   \n",
       "1891     z969     Naftisol  Male           9          30         40   \n",
       "1892     z969     Naftisol  Male           9          30         45   \n",
       "\n",
       "      Tumor Volume  Metastatic Sites  \n",
       "0        45.000000                 0  \n",
       "1        38.825898                 0  \n",
       "2        35.014271                 1  \n",
       "3        34.223992                 1  \n",
       "4        32.997729                 1  \n",
       "...            ...               ...  \n",
       "1888     63.145652                 2  \n",
       "1889     65.841013                 3  \n",
       "1890     69.176246                 4  \n",
       "1891     70.314904                 4  \n",
       "1892     73.867845                 4  \n",
       "\n",
       "[1893 rows x 8 columns]"
      ]
     },
     "execution_count": 235,
     "metadata": {},
     "output_type": "execute_result"
    }
   ],
   "source": [
    "# Dependencies and Setup\n",
    "import matplotlib.pyplot as plt\n",
    "import pandas as pd\n",
    "import scipy.stats as st\n",
    "import numpy as np\n",
    "from scipy.stats import pearsonr\n",
    "\n",
    "# Study data files\n",
    "mouse_metadata_path = \"data/Mouse_metadata.csv\"\n",
    "study_results_path = \"data/Study_results.csv\"\n",
    "\n",
    "# Read the mouse data and the study results\n",
    "mouse_metadata = pd.read_csv(mouse_metadata_path)\n",
    "study_results = pd.read_csv(study_results_path)\n",
    "\n",
    "# Combine the data into a single dataset\n",
    "merge_data = pd.merge(mouse_metadata, study_results)\n",
    "\n",
    "# Display the data table for preview\n",
    "merged_data = merge_data.rename(columns={\"Tumor Volume (mm3)\":\"Tumor Volume\"})                             \n",
    "len(merged_data[\"Mouse ID\"])\n",
    "merged_data\n"
   ]
  },
  {
   "cell_type": "markdown",
   "metadata": {},
   "source": [
    "## Summary Statistics"
   ]
  },
  {
   "cell_type": "code",
   "execution_count": 118,
   "metadata": {},
   "outputs": [],
   "source": [
    "# Getting the duplicate mice by ID number that shows up for Mouse ID and Timepoint. \n",
    "new_data = merged_data.drop_duplicates([\"Mouse ID\", \"Timepoint\"])\n",
    "newer_data = pd.DataFrame(new_data, columns = ['Tumor Volume', \"Drug Regimen\"])\n",
    "drug_data = newer_data.groupby(\"Drug Regimen\")\n",
    "drug_df = drug_data.count()\n"
   ]
  },
  {
   "cell_type": "code",
   "execution_count": 242,
   "metadata": {
    "scrolled": true
   },
   "outputs": [
    {
     "data": {
      "text/html": [
       "<div>\n",
       "<style scoped>\n",
       "    .dataframe tbody tr th:only-of-type {\n",
       "        vertical-align: middle;\n",
       "    }\n",
       "\n",
       "    .dataframe tbody tr th {\n",
       "        vertical-align: top;\n",
       "    }\n",
       "\n",
       "    .dataframe thead th {\n",
       "        text-align: right;\n",
       "    }\n",
       "</style>\n",
       "<table border=\"1\" class=\"dataframe\">\n",
       "  <thead>\n",
       "    <tr style=\"text-align: right;\">\n",
       "      <th></th>\n",
       "      <th>Tumor Volume</th>\n",
       "      <th>Mean</th>\n",
       "      <th>Median</th>\n",
       "      <th>Variance</th>\n",
       "      <th>Standard Deviation</th>\n",
       "      <th>SEM</th>\n",
       "    </tr>\n",
       "    <tr>\n",
       "      <th>Drug Regimen</th>\n",
       "      <th></th>\n",
       "      <th></th>\n",
       "      <th></th>\n",
       "      <th></th>\n",
       "      <th></th>\n",
       "      <th></th>\n",
       "    </tr>\n",
       "  </thead>\n",
       "  <tbody>\n",
       "    <tr>\n",
       "      <th>Capomulin</th>\n",
       "      <td>230</td>\n",
       "      <td>40.675741</td>\n",
       "      <td>41.557809</td>\n",
       "      <td>24.947764</td>\n",
       "      <td>4.994774</td>\n",
       "      <td>0.329346</td>\n",
       "    </tr>\n",
       "    <tr>\n",
       "      <th>Ceftamin</th>\n",
       "      <td>178</td>\n",
       "      <td>52.591172</td>\n",
       "      <td>51.776157</td>\n",
       "      <td>39.290177</td>\n",
       "      <td>6.268188</td>\n",
       "      <td>0.469821</td>\n",
       "    </tr>\n",
       "    <tr>\n",
       "      <th>Infubinol</th>\n",
       "      <td>178</td>\n",
       "      <td>52.884795</td>\n",
       "      <td>51.820584</td>\n",
       "      <td>43.128684</td>\n",
       "      <td>6.567243</td>\n",
       "      <td>0.492236</td>\n",
       "    </tr>\n",
       "    <tr>\n",
       "      <th>Ketapril</th>\n",
       "      <td>188</td>\n",
       "      <td>55.235638</td>\n",
       "      <td>53.698743</td>\n",
       "      <td>68.553577</td>\n",
       "      <td>8.279709</td>\n",
       "      <td>0.603860</td>\n",
       "    </tr>\n",
       "    <tr>\n",
       "      <th>Naftisol</th>\n",
       "      <td>186</td>\n",
       "      <td>54.331565</td>\n",
       "      <td>52.509285</td>\n",
       "      <td>66.173479</td>\n",
       "      <td>8.134708</td>\n",
       "      <td>0.596466</td>\n",
       "    </tr>\n",
       "    <tr>\n",
       "      <th>Placebo</th>\n",
       "      <td>181</td>\n",
       "      <td>54.033581</td>\n",
       "      <td>52.288934</td>\n",
       "      <td>61.168083</td>\n",
       "      <td>7.821003</td>\n",
       "      <td>0.581331</td>\n",
       "    </tr>\n",
       "    <tr>\n",
       "      <th>Propriva</th>\n",
       "      <td>156</td>\n",
       "      <td>52.393463</td>\n",
       "      <td>50.909965</td>\n",
       "      <td>43.138803</td>\n",
       "      <td>6.568014</td>\n",
       "      <td>0.525862</td>\n",
       "    </tr>\n",
       "    <tr>\n",
       "      <th>Ramicane</th>\n",
       "      <td>228</td>\n",
       "      <td>40.216745</td>\n",
       "      <td>40.673236</td>\n",
       "      <td>23.486704</td>\n",
       "      <td>4.846308</td>\n",
       "      <td>0.320955</td>\n",
       "    </tr>\n",
       "    <tr>\n",
       "      <th>Stelasyn</th>\n",
       "      <td>181</td>\n",
       "      <td>54.233149</td>\n",
       "      <td>52.431737</td>\n",
       "      <td>59.450562</td>\n",
       "      <td>7.710419</td>\n",
       "      <td>0.573111</td>\n",
       "    </tr>\n",
       "    <tr>\n",
       "      <th>Zoniferol</th>\n",
       "      <td>182</td>\n",
       "      <td>53.236507</td>\n",
       "      <td>51.818479</td>\n",
       "      <td>48.533355</td>\n",
       "      <td>6.966589</td>\n",
       "      <td>0.516398</td>\n",
       "    </tr>\n",
       "  </tbody>\n",
       "</table>\n",
       "</div>"
      ],
      "text/plain": [
       "              Tumor Volume       Mean     Median   Variance  \\\n",
       "Drug Regimen                                                  \n",
       "Capomulin              230  40.675741  41.557809  24.947764   \n",
       "Ceftamin               178  52.591172  51.776157  39.290177   \n",
       "Infubinol              178  52.884795  51.820584  43.128684   \n",
       "Ketapril               188  55.235638  53.698743  68.553577   \n",
       "Naftisol               186  54.331565  52.509285  66.173479   \n",
       "Placebo                181  54.033581  52.288934  61.168083   \n",
       "Propriva               156  52.393463  50.909965  43.138803   \n",
       "Ramicane               228  40.216745  40.673236  23.486704   \n",
       "Stelasyn               181  54.233149  52.431737  59.450562   \n",
       "Zoniferol              182  53.236507  51.818479  48.533355   \n",
       "\n",
       "              Standard Deviation       SEM  \n",
       "Drug Regimen                                \n",
       "Capomulin               4.994774  0.329346  \n",
       "Ceftamin                6.268188  0.469821  \n",
       "Infubinol               6.567243  0.492236  \n",
       "Ketapril                8.279709  0.603860  \n",
       "Naftisol                8.134708  0.596466  \n",
       "Placebo                 7.821003  0.581331  \n",
       "Propriva                6.568014  0.525862  \n",
       "Ramicane                4.846308  0.320955  \n",
       "Stelasyn                7.710419  0.573111  \n",
       "Zoniferol               6.966589  0.516398  "
      ]
     },
     "execution_count": 242,
     "metadata": {},
     "output_type": "execute_result"
    }
   ],
   "source": [
    "# Generate a summary statistics table of mean, median, variance, standard deviation, and SEM of the tumor volume for each regimen\n",
    "\n",
    "mean = newer_data.groupby([\"Drug Regimen\"])['Tumor Volume'].mean()\n",
    "median = newer_data.groupby([\"Drug Regimen\"])['Tumor Volume'].median()\n",
    "var = newer_data.groupby([\"Drug Regimen\"])['Tumor Volume'].var()\n",
    "std = newer_data.groupby([\"Drug Regimen\"])['Tumor Volume'].std()\n",
    "sem = newer_data.groupby([\"Drug Regimen\"])['Tumor Volume'].sem()\n",
    "\n",
    "# This method is the most straighforward, creating multiple series and putting them all together at the end.\n",
    "\n",
    "drug_df[\"Mean\"] = mean\n",
    "drug_df[\"Median\"] = median\n",
    "drug_df[\"Variance\"] = var\n",
    "drug_df[\"Standard Deviation\"] = std\n",
    "drug_df[\"SEM\"] = sem\n",
    "\n",
    "drug_df"
   ]
  },
  {
   "cell_type": "markdown",
   "metadata": {},
   "source": [
    "## Bar and Pie Charts"
   ]
  },
  {
   "cell_type": "code",
   "execution_count": 243,
   "metadata": {},
   "outputs": [
    {
     "data": {
      "text/plain": [
       "Text(0, 0.5, 'Number of Mice Test')"
      ]
     },
     "execution_count": 243,
     "metadata": {},
     "output_type": "execute_result"
    },
    {
     "data": {
      "image/png": "[encoded data removed]",
      "text/plain": [
       "<Figure size 432x288 with 1 Axes>"
      ]
     },
     "metadata": {
      "needs_background": "light"
     },
     "output_type": "display_data"
    }
   ],
   "source": [
    "# Generate a bar plot showing the total number of mice for each treatment throughout the course of the study using pandas. \n",
    "plot_df = drug_data.count()\n",
    "plot_df = plot_df.sort_values(\"Tumor Volume\", ascending=False)\n",
    "\n",
    "plot_df.plot.bar()\n",
    "plt.title(\"Number of Mice treated per Drug\")\n",
    "plt.ylabel(\"Number of Mice Test\")"
   ]
  },
  {
   "cell_type": "code",
   "execution_count": 244,
   "metadata": {},
   "outputs": [
    {
     "data": {
      "image/png": "[encoded data removed]",
      "text/plain": [
       "<Figure size 432x288 with 1 Axes>"
      ]
     },
     "metadata": {
      "needs_background": "light"
     },
     "output_type": "display_data"
    }
   ],
   "source": [
    "# Generate a bar plot showing the total number of mice for each treatment throughout the course of the study using pyplot.\n",
    "superplan = plot_df.reset_index()\n",
    "plt.bar(superplan[\"Drug Regimen\"], superplan[\"Tumor Volume\"])\n",
    "plt.xticks(rotation=90)\n",
    "plt.title(\"Number of Mice treated per Drug\")\n",
    "plt.ylabel(\"Number of Mice Test\")\n",
    "plt.show() "
   ]
  },
  {
   "cell_type": "code",
   "execution_count": 245,
   "metadata": {},
   "outputs": [
    {
     "data": {
      "text/plain": [
       "<AxesSubplot:ylabel='Sex'>"
      ]
     },
     "execution_count": 245,
     "metadata": {},
     "output_type": "execute_result"
    },
    {
     "data": {
      "image/png": "[encoded data removed]",
      "text/plain": [
       "<Figure size 432x288 with 1 Axes>"
      ]
     },
     "metadata": {},
     "output_type": "display_data"
    }
   ],
   "source": [
    "# Generate a pie plot showing the distribution of female versus male mice using pandas\n",
    "plot_gender = new_data[\"Sex\"].value_counts()\n",
    "plot_gender.plot.pie(autopct=\"%1.1f%%\")\n"
   ]
  },
  {
   "cell_type": "code",
   "execution_count": 218,
   "metadata": {},
   "outputs": [
    {
     "data": {
      "text/plain": [
       "([<matplotlib.patches.Wedge at 0x7ff9cc5ac650>,\n",
       "  <matplotlib.patches.Wedge at 0x7ff9cc4f8950>],\n",
       " [Text(-0.025622895044835736, 1.0997015355311284, 'Male'),\n",
       "  Text(0.025622792083347525, -1.099701537930112, 'Female')],\n",
       " [Text(-0.013976124569910401, 0.5998372011987972, '50.7%'),\n",
       "  Text(0.01397606840909865, -0.5998372025073339, '49.3%')])"
      ]
     },
     "execution_count": 218,
     "metadata": {},
     "output_type": "execute_result"
    },
    {
     "data": {
      "image/png": "[encoded data removed]",
      "text/plain": [
       "<Figure size 432x288 with 1 Axes>"
      ]
     },
     "metadata": {},
     "output_type": "display_data"
    }
   ],
   "source": [
    "# Generate a pie plot showing the distribution of female versus male mice using pyplot\n",
    "label = [\"Male\", \"Female\"]\n",
    "fig1, ax1 = plt.subplots()\n",
    "ax1.pie(plot_gender, autopct='%1.1f%%', labels=label)\n"
   ]
  },
  {
   "cell_type": "code",
   "execution_count": null,
   "metadata": {},
   "outputs": [],
   "source": []
  },
  {
   "cell_type": "markdown",
   "metadata": {},
   "source": [
    "## Quartiles, Outliers and Boxplots"
   ]
  },
  {
   "cell_type": "code",
   "execution_count": 248,
   "metadata": {},
   "outputs": [
    {
     "data": {
      "text/html": [
       "<div>\n",
       "<style scoped>\n",
       "    .dataframe tbody tr th:only-of-type {\n",
       "        vertical-align: middle;\n",
       "    }\n",
       "\n",
       "    .dataframe tbody tr th {\n",
       "        vertical-align: top;\n",
       "    }\n",
       "\n",
       "    .dataframe thead th {\n",
       "        text-align: right;\n",
       "    }\n",
       "</style>\n",
       "<table border=\"1\" class=\"dataframe\">\n",
       "  <thead>\n",
       "    <tr style=\"text-align: right;\">\n",
       "      <th></th>\n",
       "      <th></th>\n",
       "      <th>Age_months</th>\n",
       "      <th>Weight (g)</th>\n",
       "      <th>Timepoint</th>\n",
       "      <th>Tumor Volume</th>\n",
       "      <th>Metastatic Sites</th>\n",
       "    </tr>\n",
       "    <tr>\n",
       "      <th>Drug Regimen</th>\n",
       "      <th>Mouse ID</th>\n",
       "      <th></th>\n",
       "      <th></th>\n",
       "      <th></th>\n",
       "      <th></th>\n",
       "      <th></th>\n",
       "    </tr>\n",
       "  </thead>\n",
       "  <tbody>\n",
       "    <tr>\n",
       "      <th rowspan=\"5\" valign=\"top\">Capomulin</th>\n",
       "      <th>b128</th>\n",
       "      <td>9</td>\n",
       "      <td>22</td>\n",
       "      <td>45</td>\n",
       "      <td>38.982878</td>\n",
       "      <td>2</td>\n",
       "    </tr>\n",
       "    <tr>\n",
       "      <th>b742</th>\n",
       "      <td>7</td>\n",
       "      <td>21</td>\n",
       "      <td>45</td>\n",
       "      <td>38.939633</td>\n",
       "      <td>0</td>\n",
       "    </tr>\n",
       "    <tr>\n",
       "      <th>f966</th>\n",
       "      <td>16</td>\n",
       "      <td>17</td>\n",
       "      <td>20</td>\n",
       "      <td>30.485985</td>\n",
       "      <td>0</td>\n",
       "    </tr>\n",
       "    <tr>\n",
       "      <th>g288</th>\n",
       "      <td>3</td>\n",
       "      <td>19</td>\n",
       "      <td>45</td>\n",
       "      <td>37.074024</td>\n",
       "      <td>1</td>\n",
       "    </tr>\n",
       "    <tr>\n",
       "      <th>g316</th>\n",
       "      <td>22</td>\n",
       "      <td>22</td>\n",
       "      <td>45</td>\n",
       "      <td>40.159220</td>\n",
       "      <td>2</td>\n",
       "    </tr>\n",
       "    <tr>\n",
       "      <th>...</th>\n",
       "      <th>...</th>\n",
       "      <td>...</td>\n",
       "      <td>...</td>\n",
       "      <td>...</td>\n",
       "      <td>...</td>\n",
       "      <td>...</td>\n",
       "    </tr>\n",
       "    <tr>\n",
       "      <th rowspan=\"5\" valign=\"top\">Ramicane</th>\n",
       "      <th>s508</th>\n",
       "      <td>1</td>\n",
       "      <td>17</td>\n",
       "      <td>45</td>\n",
       "      <td>30.276232</td>\n",
       "      <td>0</td>\n",
       "    </tr>\n",
       "    <tr>\n",
       "      <th>u196</th>\n",
       "      <td>18</td>\n",
       "      <td>25</td>\n",
       "      <td>45</td>\n",
       "      <td>40.667713</td>\n",
       "      <td>3</td>\n",
       "    </tr>\n",
       "    <tr>\n",
       "      <th>w678</th>\n",
       "      <td>5</td>\n",
       "      <td>24</td>\n",
       "      <td>5</td>\n",
       "      <td>43.166373</td>\n",
       "      <td>0</td>\n",
       "    </tr>\n",
       "    <tr>\n",
       "      <th>y449</th>\n",
       "      <td>19</td>\n",
       "      <td>24</td>\n",
       "      <td>15</td>\n",
       "      <td>44.183451</td>\n",
       "      <td>0</td>\n",
       "    </tr>\n",
       "    <tr>\n",
       "      <th>z578</th>\n",
       "      <td>11</td>\n",
       "      <td>16</td>\n",
       "      <td>45</td>\n",
       "      <td>30.638696</td>\n",
       "      <td>0</td>\n",
       "    </tr>\n",
       "  </tbody>\n",
       "</table>\n",
       "<p>100 rows × 5 columns</p>\n",
       "</div>"
      ],
      "text/plain": [
       "                       Age_months  Weight (g)  Timepoint  Tumor Volume  \\\n",
       "Drug Regimen Mouse ID                                                    \n",
       "Capomulin    b128               9          22         45     38.982878   \n",
       "             b742               7          21         45     38.939633   \n",
       "             f966              16          17         20     30.485985   \n",
       "             g288               3          19         45     37.074024   \n",
       "             g316              22          22         45     40.159220   \n",
       "...                           ...         ...        ...           ...   \n",
       "Ramicane     s508               1          17         45     30.276232   \n",
       "             u196              18          25         45     40.667713   \n",
       "             w678               5          24          5     43.166373   \n",
       "             y449              19          24         15     44.183451   \n",
       "             z578              11          16         45     30.638696   \n",
       "\n",
       "                       Metastatic Sites  \n",
       "Drug Regimen Mouse ID                    \n",
       "Capomulin    b128                     2  \n",
       "             b742                     0  \n",
       "             f966                     0  \n",
       "             g288                     1  \n",
       "             g316                     2  \n",
       "...                                 ...  \n",
       "Ramicane     s508                     0  \n",
       "             u196                     3  \n",
       "             w678                     0  \n",
       "             y449                     0  \n",
       "             z578                     0  \n",
       "\n",
       "[100 rows x 5 columns]"
      ]
     },
     "execution_count": 248,
     "metadata": {},
     "output_type": "execute_result"
    }
   ],
   "source": [
    "# Calculate the final tumor volume of each mouse across four of the treatment regimens:  \n",
    "merged_data = merged_data[~merged_data['Drug Regimen'].str.contains('Propriva')]\n",
    "merged_data = merged_data[~merged_data['Drug Regimen'].str.contains('Naftisol')]\n",
    "merged_data = merged_data[~merged_data['Drug Regimen'].str.contains('Stelasyn')]\n",
    "merged_data = merged_data[~merged_data['Drug Regimen'].str.contains('Zoniferol')]\n",
    "merged_data = merged_data[~merged_data['Drug Regimen'].str.contains('Ketapril')]\n",
    "merged_data = merged_data[~merged_data['Drug Regimen'].str.contains('Placebo')]\n",
    "\n",
    "\n",
    "final_four = merged_data.sort_values(\"Timepoint\", ascending=False).drop_duplicates([\"Mouse ID\"])\n",
    "more_df = final_four.groupby([\"Drug Regimen\", \"Mouse ID\"])\n",
    "more_df.sum()\n",
    "\n",
    "\n"
   ]
  },
  {
   "cell_type": "code",
   "execution_count": 249,
   "metadata": {},
   "outputs": [
    {
     "name": "stdout",
     "output_type": "stream",
     "text": [
      "No outliers in three data sets, and one in Infubinoldf: 669    36.321346\n",
      "Name: Tumor Volume, dtype: float64\n"
     ]
    }
   ],
   "source": [
    "# Create empty list to fill with tumor vol data (for plotting)\n",
    "one_df = merged_data.sort_values(\"Timepoint\", ascending=False).drop_duplicates([\"Mouse ID\"])\n",
    "Capomulin = one_df[one_df['Drug Regimen'].str.contains('Capomulin')]\n",
    "Ramicane = one_df[one_df['Drug Regimen'].str.contains('Ramicane')]\n",
    "Infubinol = one_df[one_df['Drug Regimen'].str.contains('Infubinol')]\n",
    "Ceftamin = one_df[one_df['Drug Regimen'].str.contains('Ceftamin')]\n",
    "\n",
    "Ceftamindf = Ceftamin[\"Tumor Volume\"]\n",
    "Capomulindf = Capomulin[\"Tumor Volume\"]\n",
    "Ramicanedf = Ramicane[\"Tumor Volume\"]\n",
    "Infubinoldf = Infubinol[\"Tumor Volume\"]\n",
    "\n",
    "\n",
    "# Calculate the IQR and quantitatively determine if there are any potential outliers. \n",
    "[Q1, Q2, Q3] = Ceftamindf.quantile([0.25,0.5,0.75])\n",
    "IQR = Q3 - Q1\n",
    "lower_range = Q1 - (1.5 * IQR)\n",
    "upper_range = Q3 + (1.5 * IQR)\n",
    "OutliersCep = Ceftamindf[(Ceftamindf < lower_range) | (Ceftamindf > upper_range)]\n",
    "\n",
    "[Q1, Q2, Q3] = Capomulindf.quantile([0.25,0.5,0.75])\n",
    "IQR = Q3 - Q1\n",
    "lower_range = Q1 - (1.5 * IQR)\n",
    "upper_range = Q3 + (1.5 * IQR)\n",
    "OutliersCap = Capomulindf[(Capomulindf < lower_range) | (Capomulindf > upper_range)]\n",
    "\n",
    "\n",
    "[Q1, Q2, Q3] = Ramicanedf.quantile([0.25,0.5,0.75])\n",
    "IQR = Q3 - Q1\n",
    "lower_range = Q1 - (1.5 * IQR)\n",
    "upper_range = Q3 + (1.5 * IQR)\n",
    "OutliersRam = Ramicanedf[(Ramicanedf < lower_range) | (Ramicanedf > upper_range)]\n",
    "\n",
    "\n",
    "[Q1, Q2, Q3] = Infubinoldf.quantile([0.25,0.5,0.75])\n",
    "IQR = Q3 - Q1\n",
    "lower_range = Q1 - (1.5 * IQR)\n",
    "upper_range = Q3 + (1.5 * IQR)\n",
    "OutliersInf = Infubinoldf[(Infubinoldf < lower_range) | (Infubinoldf > upper_range)]\n",
    "\n",
    "print(f\"No outliers in three data sets, and one in Infubinoldf: {OutliersInf}\")\n",
    "    \n",
    "    # Locate the rows which contain mice on each drug and get the tumor volumes\n",
    "  \n",
    "    \n",
    "    # add subset \n",
    "    \n",
    "    \n",
    "    # Determine outliers using upper and lower bounds\n",
    "    "
   ]
  },
  {
   "cell_type": "code",
   "execution_count": 257,
   "metadata": {},
   "outputs": [
    {
     "data": {
      "image/png": "[encoded data removed]",
      "text/plain": [
       "<Figure size 432x288 with 1 Axes>"
      ]
     },
     "metadata": {
      "needs_background": "light"
     },
     "output_type": "display_data"
    }
   ],
   "source": [
    "# Generate a box plot of the final tumor volume of each mouse across four regimens of interest\n",
    "fig = plt.figure()\n",
    "ax = plt.axes()\n",
    "\n",
    "plt.boxplot((Capomulindf, Ramicanedf, Infubinoldf, Ceftamindf)) \n",
    "plt.title(\"Boxplots\")\n",
    "plt.xlabel(\"Regimens\")\n",
    "plt.ylabel(\"Final Tumor Volume\")\n",
    "plt.show()\n",
    "\n",
    "#ax.legend([bp1[\"boxes\"][0], bp2[\"boxes\"][0]], ['A', 'B'], loc='upper right')\n",
    "\n"
   ]
  },
  {
   "cell_type": "markdown",
   "metadata": {},
   "source": [
    "## Line and Scatter Plots"
   ]
  },
  {
   "cell_type": "code",
   "execution_count": 250,
   "metadata": {},
   "outputs": [
    {
     "data": {
      "image/png": "[encoded data removed]",
      "text/plain": [
       "<Figure size 432x288 with 1 Axes>"
      ]
     },
     "metadata": {
      "needs_background": "light"
     },
     "output_type": "display_data"
    }
   ],
   "source": [
    "# Generate a line plot of time point versus tumor volume for a mouse treated with Capomulin\n",
    "single_mouse = merged_data[merged_data['Mouse ID'].str.contains('v923')]\n",
    "Cap_tumor = single_mouse[\"Tumor Volume\"]\n",
    "Cap_time = single_mouse[\"Timepoint\"]\n",
    "\n",
    "\n",
    "fig = plt.figure()\n",
    "ax = plt.axes()\n",
    "ax.plot(Cap_time, Cap_tumor);\n",
    "\n",
    "\n",
    "plt.title(\"Mouse Time vs Tumor Volume for Capomulin\")\n",
    "plt.xlabel(\"Timepoint\")\n",
    "plt.ylabel(\"Tumor Volume\")\n",
    "plt.show()\n"
   ]
  },
  {
   "cell_type": "code",
   "execution_count": 254,
   "metadata": {},
   "outputs": [
    {
     "data": {
      "image/png": "[encoded data removed]",
      "text/plain": [
       "<Figure size 432x288 with 1 Axes>"
      ]
     },
     "metadata": {
      "needs_background": "light"
     },
     "output_type": "display_data"
    }
   ],
   "source": [
    "# Generate a scatter plot of mouse weight versus average tumor volume for the Capomulin regimen\n",
    "weightdf = Capomulin[\"Weight (g)\"]\n",
    "average_tumor = merged_data[merged_data['Drug Regimen'].str.contains('Capomulin')]\n",
    "more_average = average_tumor.groupby(\"Mouse ID\")\n",
    "mostaverage = more_average.mean(\"Tumor Volume\")\n",
    "most_average = mostaverage.reset_index()\n",
    "\n",
    "weight = most_average[\"Weight (g)\"]\n",
    "tumorvol = most_average[\"Tumor Volume\"]\n",
    "\n",
    "\n",
    "\n",
    "plt.scatter(weight, tumorvol);\n",
    "plt.title(\"Mouse Weight vs Average Tumor Volume\")\n",
    "plt.xlabel(\"Mouse Weight\")\n",
    "plt.ylabel(\"Average Tumor Volume\")\n",
    "plt.show()\n",
    "\n",
    "\n"
   ]
  },
  {
   "cell_type": "code",
   "execution_count": 253,
   "metadata": {},
   "outputs": [
    {
     "data": {
      "text/plain": [
       "(0.8419363424694716, 1.3225722434712883e-07)"
      ]
     },
     "execution_count": 253,
     "metadata": {},
     "output_type": "execute_result"
    }
   ],
   "source": [
    "# Calculate the correlation coefficient and linear regression model \n",
    "# for mouse weight and average tumor volume for the Capomulin regimen\n",
    "weightdf = Capomulin[\"Weight (g)\"]\n",
    "average_tumor = merged_data[merged_data['Drug Regimen'].str.contains('Capomulin')]\n",
    "more_average = average_tumor.groupby(\"Mouse ID\")\n",
    "mostaverage = more_average.mean(\"Tumor Volume\")\n",
    "most_average = mostaverage.reset_index()\n",
    "\n",
    "weight = most_average[\"Weight (g)\"]\n",
    "tumorvol = most_average[\"Tumor Volume\"]\n",
    "\n",
    "corr = pearsonr(weight, tumorvol)\n",
    "corr\n",
    "\n",
    "#(slope, intercept, rvalue, pvalue, stderr) = stats.lingregress()\n"
   ]
  },
  {
   "cell_type": "code",
   "execution_count": null,
   "metadata": {},
   "outputs": [],
   "source": []
  }
 ],
 "metadata": {
  "anaconda-cloud": {},
  "kernelspec": {
   "display_name": "Python 3",
   "language": "python",
   "name": "python3"
  },
  "language_info": {
   "codemirror_mode": {
    "name": "ipython",
    "version": 3
   },
   "file_extension": ".py",
   "mimetype": "text/x-python",
   "name": "python",
   "nbconvert_exporter": "python",
   "pygments_lexer": "ipython3",
   "version": "3.7.7"
  }
 },
 "nbformat": 4,
 "nbformat_minor": 2
}
